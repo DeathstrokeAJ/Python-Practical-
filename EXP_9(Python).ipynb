{
  "nbformat": 4,
  "nbformat_minor": 0,
  "metadata": {
    "colab": {
      "provenance": [],
      "authorship_tag": "ABX9TyOWBi3uGXs1CRsmyYI67431",
      "include_colab_link": true
    },
    "kernelspec": {
      "name": "python3",
      "display_name": "Python 3"
    },
    "language_info": {
      "name": "python"
    }
  },
  "cells": [
    {
      "cell_type": "markdown",
      "metadata": {
        "id": "view-in-github",
        "colab_type": "text"
      },
      "source": [
        "<a href=\"https://colab.research.google.com/github/DeathstrokeAJ/Python-Practical-/blob/main/EXP_9(Python).ipynb\" target=\"_parent\"><img src=\"https://colab.research.google.com/assets/colab-badge.svg\" alt=\"Open In Colab\"/></a>"
      ]
    },
    {
      "cell_type": "code",
      "execution_count": null,
      "metadata": {
        "id": "n1TMoOFp0sNT"
      },
      "outputs": [],
      "source": [
        "import threading\n",
        "import time\n",
        "\n",
        "\n",
        "def print_numbers():\n",
        "\n",
        "    for i in range(5):\n",
        "        print(f\"Thread {threading.current_thread().name}: {i}\")\n",
        "        time.sleep(1)\n",
        "\n",
        "\n",
        "thread1 = threading.Thread(target=print_numbers, name=\"Thread 1\")\n",
        "thread2 = threading.Thread(target=print_numbers, name=\"Thread 2\")\n",
        "\n",
        "\n",
        "thread1.start()\n",
        "thread2.start()\n",
        "\n",
        "\n",
        "thread1.join()\n",
        "thread2.join()\n",
        "\n",
        "print(\"All threads have finished.\")\n"
      ]
    },
    {
      "cell_type": "markdown",
      "source": [],
      "metadata": {
        "id": "VTUu38V601W5"
      }
    }
  ]
}