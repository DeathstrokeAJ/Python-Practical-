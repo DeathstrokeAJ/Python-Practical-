{
  "nbformat": 4,
  "nbformat_minor": 0,
  "metadata": {
    "colab": {
      "provenance": []
    },
    "kernelspec": {
      "name": "python3",
      "display_name": "Python 3"
    },
    "language_info": {
      "name": "python"
    }
  },
  "cells": [
    {
      "cell_type": "code",
      "execution_count": null,
      "metadata": {
        "colab": {
          "base_uri": "https://localhost:8080/"
        },
        "id": "CxtD_70cR8wg",
        "outputId": "bca93350-b45c-43ef-b6cd-4efe30c3b493"
      },
      "outputs": [
        {
          "output_type": "stream",
          "name": "stdout",
          "text": [
            "This is AJ\n"
          ]
        }
      ],
      "source": [
        "print(\"This is AJ\")"
      ]
    },
    {
      "cell_type": "code",
      "source": [
        "if 99<100:\n",
        "  print(\"Welcome to First Experiment\")"
      ],
      "metadata": {
        "colab": {
          "base_uri": "https://localhost:8080/"
        },
        "id": "9mOe7QckZrw2",
        "outputId": "c39b4d6b-dade-42bd-f284-736ea905de31"
      },
      "execution_count": null,
      "outputs": [
        {
          "output_type": "stream",
          "name": "stdout",
          "text": [
            "Welcome to First Experiment\n"
          ]
        }
      ]
    },
    {
      "cell_type": "code",
      "source": [
        "x= 98\n",
        "y= \"Hey!!\"\n",
        "print(x)\n",
        "print(y)"
      ],
      "metadata": {
        "colab": {
          "base_uri": "https://localhost:8080/"
        },
        "id": "F6CQnj_wZvQO",
        "outputId": "6a1297ff-c5f6-4992-b1da-8501314e8e87"
      },
      "execution_count": null,
      "outputs": [
        {
          "output_type": "stream",
          "name": "stdout",
          "text": [
            "98\n",
            "Hey!!\n"
          ]
        }
      ]
    },
    {
      "cell_type": "markdown",
      "source": [],
      "metadata": {
        "id": "dfshDAT-b1Cn"
      }
    },
    {
      "cell_type": "code",
      "source": [
        "#This is a code part of EXP 1\n",
        "x=90\n",
        "print(x)"
      ],
      "metadata": {
        "colab": {
          "base_uri": "https://localhost:8080/"
        },
        "id": "A4fp7OP9aPSY",
        "outputId": "58ba1d61-cf92-4761-9585-1e4bf5a14bf4"
      },
      "execution_count": null,
      "outputs": [
        {
          "output_type": "stream",
          "name": "stdout",
          "text": [
            "90\n"
          ]
        }
      ]
    },
    {
      "cell_type": "code",
      "source": [
        "\"\"\"\n",
        "Hello There!!\n",
        "\"\"\"\n",
        "x=\"AJ\"\n",
        "print(\"This is \"+ x)\n"
      ],
      "metadata": {
        "colab": {
          "base_uri": "https://localhost:8080/"
        },
        "id": "8o6Iyi_9aboP",
        "outputId": "40482f3d-a409-4582-cbcd-d8a81b46324e"
      },
      "execution_count": null,
      "outputs": [
        {
          "output_type": "stream",
          "name": "stdout",
          "text": [
            "This is AJ\n"
          ]
        }
      ]
    },
    {
      "cell_type": "code",
      "source": [
        "x= str(4)\n",
        "y=int(54)\n",
        "print(x + \" This is a string\")"
      ],
      "metadata": {
        "colab": {
          "base_uri": "https://localhost:8080/"
        },
        "id": "uIFPB2dgbI4A",
        "outputId": "346258a6-f5a9-47df-9187-91d9a1ac6d6e"
      },
      "execution_count": null,
      "outputs": [
        {
          "output_type": "stream",
          "name": "stdout",
          "text": [
            "4 This is a string\n"
          ]
        }
      ]
    },
    {
      "cell_type": "code",
      "source": [
        "x= 4\n",
        "y=\"John\"\n",
        "print(y + str(x))"
      ],
      "metadata": {
        "colab": {
          "base_uri": "https://localhost:8080/"
        },
        "id": "TFfwLAyJcmsf",
        "outputId": "01e647c5-606e-4254-9b55-c45bc4ac72cc"
      },
      "execution_count": null,
      "outputs": [
        {
          "output_type": "stream",
          "name": "stdout",
          "text": [
            "John4\n"
          ]
        }
      ]
    },
    {
      "cell_type": "code",
      "source": [
        "a = 45\n",
        "A = \"String\"\n",
        "print(A)\n",
        "print(a)"
      ],
      "metadata": {
        "colab": {
          "base_uri": "https://localhost:8080/"
        },
        "id": "sXzzz0_tdDgX",
        "outputId": "525c8782-6c19-484a-db9b-cf281294839a"
      },
      "execution_count": null,
      "outputs": [
        {
          "output_type": "stream",
          "name": "stdout",
          "text": [
            "String\n",
            "45\n"
          ]
        }
      ]
    },
    {
      "cell_type": "code",
      "source": [
        "x,y,z=[\"Adithya\",\"He\",\"Talks\"]\n",
        "print(x)\n",
        "print(y)\n",
        "print(z)"
      ],
      "metadata": {
        "colab": {
          "base_uri": "https://localhost:8080/"
        },
        "id": "DOO7roUYdYY-",
        "outputId": "495a003f-d0ec-49cf-961b-a664f00b75bc"
      },
      "execution_count": null,
      "outputs": [
        {
          "output_type": "stream",
          "name": "stdout",
          "text": [
            "Adithya\n",
            "He\n",
            "Talks\n"
          ]
        }
      ]
    },
    {
      "cell_type": "code",
      "source": [
        "x=y=z=\"Adithya\"\n",
        "print(x)\n"
      ],
      "metadata": {
        "colab": {
          "base_uri": "https://localhost:8080/"
        },
        "id": "RN6J6wFQeVfO",
        "outputId": "cbd99c5e-063b-40e5-d03c-674d3f5c83f7"
      },
      "execution_count": null,
      "outputs": [
        {
          "output_type": "stream",
          "name": "stdout",
          "text": [
            "Adithya\n"
          ]
        }
      ]
    },
    {
      "cell_type": "code",
      "source": [
        "x=\"Fantastic\"\n",
        "def myfunc():\n",
        "  x=\"Awesome\"\n",
        "  print(\"This is \"+ x)\n",
        "myfunc()\n",
        "print(\"This is \" +x)"
      ],
      "metadata": {
        "colab": {
          "base_uri": "https://localhost:8080/"
        },
        "id": "HElfOVk8e8CH",
        "outputId": "2ebcf8d1-10be-42e9-facd-74ef234b7a61"
      },
      "execution_count": null,
      "outputs": [
        {
          "output_type": "stream",
          "name": "stdout",
          "text": [
            "This is Awesome\n",
            "This is Fantastic\n"
          ]
        }
      ]
    },
    {
      "cell_type": "code",
      "source": [
        "x=\"Fantastic\"\n",
        "def myfunc():\n",
        "  global x\n",
        "  x=\"Awesome\"\n",
        "  print(\"This is \"+ x)\n",
        "myfunc()\n"
      ],
      "metadata": {
        "colab": {
          "base_uri": "https://localhost:8080/"
        },
        "id": "X3rsUNs0fdPS",
        "outputId": "19c5990d-6ecf-4cc4-e52b-6bf0d1cc65ff"
      },
      "execution_count": null,
      "outputs": [
        {
          "output_type": "stream",
          "name": "stdout",
          "text": [
            "This is Awesome\n"
          ]
        }
      ]
    },
    {
      "cell_type": "code",
      "source": [],
      "metadata": {
        "id": "M73WAKiggFLw"
      },
      "execution_count": null,
      "outputs": []
    }
  ]
}