{
  "nbformat": 4,
  "nbformat_minor": 0,
  "metadata": {
    "colab": {
      "provenance": [],
      "authorship_tag": "ABX9TyO6PYvcyQ1ikZwRlwSMimhj",
      "include_colab_link": true
    },
    "kernelspec": {
      "name": "python3",
      "display_name": "Python 3"
    },
    "language_info": {
      "name": "python"
    }
  },
  "cells": [
    {
      "cell_type": "markdown",
      "metadata": {
        "id": "view-in-github",
        "colab_type": "text"
      },
      "source": [
        "<a href=\"https://colab.research.google.com/github/DeathstrokeAJ/Python-Practical-/blob/main/EXP_4(Python).ipynb\" target=\"_parent\"><img src=\"https://colab.research.google.com/assets/colab-badge.svg\" alt=\"Open In Colab\"/></a>"
      ]
    },
    {
      "cell_type": "code",
      "execution_count": null,
      "metadata": {
        "id": "t9fwGhD6GXUB",
        "colab": {
          "base_uri": "https://localhost:8080/"
        },
        "outputId": "8669bff7-1470-4aa0-9293-ccb26909b0ec"
      },
      "outputs": [
        {
          "output_type": "stream",
          "name": "stdout",
          "text": [
            "Enter the filename to append data: adj.txt\n",
            "File doesn't exist. Creating a new file.\n",
            "Enter data to append to the file: AJ\n",
            "Data appended to the file successfully.\n",
            "File content:\n",
            "AJ\n",
            "\n"
          ]
        }
      ],
      "source": [
        "import os\n",
        "\n",
        "def append_to_file(filename, data):\n",
        "    try:\n",
        "        with open(filename, 'a') as file:\n",
        "            file.write(data + '\\n')\n",
        "        print(\"Data appended to the file successfully.\")\n",
        "    except FileNotFoundError:\n",
        "        print(\"File not found.\")\n",
        "\n",
        "def display_file_content(filename):\n",
        "    try:\n",
        "        with open(filename, 'r') as file:\n",
        "            content = file.read()\n",
        "            print(\"File content:\")\n",
        "            print(content)\n",
        "    except FileNotFoundError:\n",
        "        print(\"File not found.\")\n",
        "\n",
        "def main():\n",
        "    filename = input(\"Enter the filename to append data: \")\n",
        "\n",
        "\n",
        "    if not os.path.isfile(filename):\n",
        "        print(\"File doesn't exist. Creating a new file.\")\n",
        "        with open(filename, 'w'):\n",
        "            pass\n",
        "\n",
        "    data_to_append = input(\"Enter data to append to the file: \")\n",
        "    append_to_file(filename, data_to_append)\n",
        "    display_file_content(filename)\n",
        "\n",
        "if __name__ == \"__main__\":\n",
        "    main()\n"
      ]
    }
  ]
}