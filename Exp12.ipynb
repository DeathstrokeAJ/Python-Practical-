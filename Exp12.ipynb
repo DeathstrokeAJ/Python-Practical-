{
  "nbformat": 4,
  "nbformat_minor": 0,
  "metadata": {
    "colab": {
      "provenance": [],
      "authorship_tag": "ABX9TyMR3jak1fN+K9x08Njz9BE9",
      "include_colab_link": true
    },
    "kernelspec": {
      "name": "python3",
      "display_name": "Python 3"
    },
    "language_info": {
      "name": "python"
    }
  },
  "cells": [
    {
      "cell_type": "markdown",
      "metadata": {
        "id": "view-in-github",
        "colab_type": "text"
      },
      "source": [
        "<a href=\"https://colab.research.google.com/github/DeathstrokeAJ/Python-Practical-/blob/main/Exp12.ipynb\" target=\"_parent\"><img src=\"https://colab.research.google.com/assets/colab-badge.svg\" alt=\"Open In Colab\"/></a>"
      ]
    },
    {
      "cell_type": "code",
      "execution_count": null,
      "metadata": {
        "id": "UsP98g5AKOoy"
      },
      "outputs": [],
      "source": [
        "import pandas as pd\n",
        "\n",
        "\n",
        "name = input(\"Enter names separated by comma: \").split(',')\n",
        "age = list(map(int, input(\"Enter ages separated by comma: \").split(',')))\n",
        "city = input(\"Enter cities separated by comma: \").split(',')\n",
        "\n",
        "data = {'Name': name, 'Age': age, 'City': city}\n",
        "df = pd.DataFrame(data)\n",
        "\n",
        "\n",
        "profession = input(\"Enter professions separated by comma: \").split(',')\n",
        "df['Profession'] = profession\n",
        "\n",
        "df['Age'] = df['Age'] + 1\n",
        "\n",
        "\n",
        "salary = list(map(int, input(\"Enter salaries separated by comma: \").split(',')))\n",
        "df['Salary'] = salary\n",
        "df['Salary'] = df['Salary'].fillna(df['Salary'].mean())\n",
        "\n",
        "grouped = df.groupby('Profession')['Age'].mean()\n",
        "\n",
        "\n",
        "df1_data = input(\"Enter data for df1 separated by comma: \").split(',')\n",
        "df2_data = input(\"Enter data for df2 separated by comma: \").split(',')\n",
        "\n",
        "df1 = pd.DataFrame({'A': df1_data[0:4], 'B': df1_data[4:8], 'C': df1_data[8:12], 'D': df1_data[12:16]}, index=[0, 1, 2, 3])\n",
        "df2 = pd.DataFrame({'A': df2_data[0:4], 'B': df2_data[4:8], 'C': df2_data[8:12], 'D': df2_data[12:16]}, index=[4, 5, 6, 7])\n",
        "\n",
        "result = pd.concat([df1, df2])\n"
      ]
    }
  ]
}