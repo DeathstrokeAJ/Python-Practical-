{
  "nbformat": 4,
  "nbformat_minor": 0,
  "metadata": {
    "colab": {
      "provenance": [],
      "authorship_tag": "ABX9TyMwZZcKyMPTDTVqjEuPXFKD",
      "include_colab_link": true
    },
    "kernelspec": {
      "name": "python3",
      "display_name": "Python 3"
    },
    "language_info": {
      "name": "python"
    }
  },
  "cells": [
    {
      "cell_type": "markdown",
      "metadata": {
        "id": "view-in-github",
        "colab_type": "text"
      },
      "source": [
        "<a href=\"https://colab.research.google.com/github/DeathstrokeAJ/Python/blob/main/Exp3(Python).ipynb\" target=\"_parent\"><img src=\"https://colab.research.google.com/assets/colab-badge.svg\" alt=\"Open In Colab\"/></a>"
      ]
    },
    {
      "cell_type": "code",
      "source": [
        "class Person:\n",
        "  def __init__(self,name,age):\n",
        "    self.name = name\n",
        "    self.age =age\n",
        "  def introduce(self):\n",
        "    print(\"My name is \", self.name, \"and I am \", self.age, \"years old.\")\n",
        "person1 = Person(\"Alice\", 25)\n",
        "person1.introduce()\n"
      ],
      "metadata": {
        "colab": {
          "base_uri": "https://localhost:8080/"
        },
        "id": "U1DiVZTu_GPb",
        "outputId": "280f9604-a0a9-4ef9-d940-a995b94608f8"
      },
      "execution_count": 18,
      "outputs": [
        {
          "output_type": "stream",
          "name": "stdout",
          "text": [
            "My name is  Alice and I am  25 years old.\n"
          ]
        }
      ]
    },
    {
      "cell_type": "markdown",
      "source": [
        "List and tuple are two data structures in Python that can store multiple values in a specific order¹. They have some similarities and differences, which I will summarize below:\n",
        "\n",
        "- **Mutability**: List is mutable, meaning you can change its elements after creation. Tuple is immutable, meaning you cannot change its elements once created².\n",
        "- **Syntax**: List is surrounded by square brackets `[]`, while tuple is surrounded by parentheses `()`¹. For example, `list_num = [1, 2, 3, 4]` and `tup_num = (1, 2, 3, 4)`.\n",
        "- **Performance**: Tuple is faster than list for large collections of data, because it is stored in a single memory block and does not require extra space for new objects². List is slower than tuple, because it is allocated in two blocks and requires more memory³.\n",
        "- **Operations**: List has more built-in methods than tuple, such as `append`, `insert`, `remove`, `sort`, etc. Tuple has fewer built-in methods, such as `count` and `index`¹. You can use `dir(list)` and `dir(tuple)` to see all the available methods for each data structure⁴.\n",
        "- **Usage**: List is better for performing operations that require changing the data, such as insertion and deletion. Tuple is better for accessing the data and ensuring its integrity². List is also more suitable for heterogeneous data (different types of values), while tuple is more suitable for homogeneous data (same type of values).\n",
        "\n",
        "¹: [Difference Between List and Tuple in Python - GeeksforGeeks](^1^)\n",
        "²: [Python Lists Vs Tuples (With Examples) - Programiz](^2^)\n",
        "³: [List vs Tuple in Python: 6 Key Differences (with Examples) - FavTutor](^3^)\n",
        "⁴: [python - How to compare values in tuples in a list - Stack Overflow](^4^)\n",
        ": [Python List vs Tuple: The Key Differences - DataCamp]\n",
        "\n",
        "Source: Conversation with Bing, 2/8/2024\n",
        "(1) Difference Between List and Tuple in Python - GeeksforGeeks. https://www.geeksforgeeks.org/python-difference-between-list-and-tuple/.\n",
        "(2) Python Lists Vs Tuples (With Examples) - Programiz. https://www.programiz.com/python-programming/list-vs-tuples.\n",
        "(3) List vs Tuple in Python: 6 Key Differences (with Examples) - FavTutor. https://favtutor.com/blogs/tuple-vs-list-python.\n",
        "(4) python - How to compare values in tuples in a list - Stack Overflow. https://stackoverflow.com/questions/33689705/how-to-compare-values-in-tuples-in-a-list.\n",
        "(5) Difference Between List and Tuple in Python - GeeksforGeeks. https://www.geeksforgeeks.org/python-difference-between-list-and-tuple/.\n",
        "(6) Python Lists Vs Tuples (With Examples) - Programiz. https://www.programiz.com/python-programming/list-vs-tuples.\n",
        "(7) List vs Tuple in Python: 6 Key Differences (with Examples) - FavTutor. https://favtutor.com/blogs/tuple-vs-list-python.\n",
        "(8) python - How to compare values in tuples in a list - Stack Overflow. https://stackoverflow.com/questions/33689705/how-to-compare-values-in-tuples-in-a-list."
      ],
      "metadata": {
        "id": "ewDCxUgrC_0E"
      }
    },
    {
      "cell_type": "markdown",
      "source": [
        "String and dict are two data structures in Python that have different advantages depending on the use case. Some of the advantages are:\n",
        "\n",
        "- **String**:\n",
        "    - Text Processing: Strings are used to represent and manipulate text in various ways, such as searching, replacing, parsing, and formatting¹.\n",
        "    - Documentation: Writing out Python dictionary keys along with values as strings adds a layer of documentation to the code, making it easier to debug and understand².\n",
        "    - Encoding/Decoding: Strings can be used to encode and decode data for safe and efficient transmission, such as cipher text generation and network communication¹.\n",
        "- **Dict**:\n",
        "    - Key-Value Mapping: Dicts are used to store values in key-value pairs, which makes it easier to find and access values by their keys³.\n",
        "    - Performance: Dicts are faster than lists for large collections of data, because they use hash tables to store and retrieve data in constant time⁴.\n",
        "    - Flexibility: Dicts can store any data type as values, and can have different types of keys, such as strings, integers, tuples, etc³.\n",
        "\n",
        "¹: [Applications, Advantages and Disadvantages of String](^1^)\n",
        "²: [What is a Python Dictionary and How Does it Work?](^3^)\n",
        "³: [Dictionaries in Python](^2^)\n",
        "⁴: [Is it always faster to use string as key in a dict?](^4^)\n",
        "\n",
        "Source: Conversation with Bing, 2/8/2024\n",
        "(1) Applications, Advantages and Disadvantages of String. https://www.geeksforgeeks.org/applications-advantages-and-disadvantages-of-string/.\n",
        "(2) Dictionaries in Python - GeeksforGeeks. https://www.geeksforgeeks.org/python-dictionary/.\n",
        "(3) What is a Python Dictionary and How Does it Work? - Digital Vidya. https://www.digitalvidya.com/blog/python-dictionary/.\n",
        "(4) python - Is it always faster to use string as key in a dict? - Stack .... https://stackoverflow.com/questions/11162201/is-it-always-faster-to-use-string-as-key-in-a-dict.\n",
        "(5) Applications, Advantages and Disadvantages of String. https://www.geeksforgeeks.org/applications-advantages-and-disadvantages-of-string/.\n",
        "(6) What is a Python Dictionary and How Does it Work? - Digital Vidya. https://www.digitalvidya.com/blog/python-dictionary/.\n",
        "(7) Dictionaries in Python - GeeksforGeeks. https://www.geeksforgeeks.org/python-dictionary/.\n",
        "(8) python - Is it always faster to use string as key in a dict? - Stack .... https://stackoverflow.com/questions/11162201/is-it-always-faster-to-use-string-as-key-in-a-dict."
      ],
      "metadata": {
        "id": "aOOaJxRdDCP6"
      }
    },
    {
      "cell_type": "code",
      "source": [
        "def multiply(a,b):\n",
        "  return a*b\n",
        "result = multiply(3,4)\n",
        "print(result)"
      ],
      "metadata": {
        "colab": {
          "base_uri": "https://localhost:8080/"
        },
        "id": "X7Iu1b7DB5Rr",
        "outputId": "bc6a512a-36c7-400b-b075-16e46cf37a37"
      },
      "execution_count": 20,
      "outputs": [
        {
          "output_type": "stream",
          "name": "stdout",
          "text": [
            "12\n"
          ]
        }
      ]
    }
  ]
}